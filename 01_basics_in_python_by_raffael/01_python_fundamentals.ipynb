{
 "cells": [
  {
   "cell_type": "markdown",
   "id": "87719845",
   "metadata": {},
   "source": [
    "# Variables and their values, printing\n",
    "\n",
    "The operation `=` assigns the variable `my_variable` on the left-hand side the value `5` that we write on the right-hand side.\n",
    "We can have a look what is stored inside the variable by means of the function `print()`."
   ]
  },
  {
   "cell_type": "code",
   "execution_count": 1,
   "id": "c1837654",
   "metadata": {},
   "outputs": [
    {
     "name": "stdout",
     "output_type": "stream",
     "text": [
      "Hello World!\n"
     ]
    }
   ],
   "source": [
    "my_variable = 5\n",
    "print(my_variable)"
   ]
  },
  {
   "cell_type": "markdown",
   "id": "e9b87b19",
   "metadata": {},
   "source": [
    "# Basic data types\n",
    "\n",
    "Basic data types: \n",
    "\n",
    "* `int` are integers: ..., -2, -1, 0, 1, 2, ...\n",
    "* `float` are floating-point numbers like $\\pi$ or $e$ or $1.3$ or $-2.4$.\n",
    "* `complex` are complex numbers like $i$ or $z = 1 + 2i$, where $i^2 = -1$.\n",
    "* `bool` are booleans: either `True` or `False` \n",
    "* `str` are strings: either single characters like `'a'` or text like `'Hello World!'` "
   ]
  },
  {
   "cell_type": "code",
   "execution_count": 2,
   "id": "185bfaf5",
   "metadata": {},
   "outputs": [],
   "source": [
    "# integers\n",
    "integer1 = 2\n",
    "integer2 = -3\n",
    "\n",
    "# floating-point numbers (aka real numbers in mathematics)\n",
    "float1 = integer1/integer2\n",
    "float2 = 1.79e308\n",
    "float3 = 1.8e308 # everything above 1.8e308 is represented by 'inf' (64-bit double precision)\n",
    "float4 = 5e-324\n",
    "float5 = 1e-325 # everything closer to zero than 1e-325 is represented by 0.0\n",
    "\n",
    "# complex numbers (real part + imaginary part)\n",
    "complex1 = 1+1j\n",
    "complex2 = 1-1j\n",
    "\n",
    "bool1 = True\n",
    "bool2 = False\n",
    "\n",
    "string1 = ''\n",
    "string2 = 'Hello World!'\n",
    "string3 = 'I take part in the Carpentry Workshop!'\n",
    "string4 = ' '\n",
    "# Note: strings can also be 'added'. "
   ]
  },
  {
   "cell_type": "markdown",
   "id": "22f30345",
   "metadata": {},
   "source": [
    "We check the data type of a variable with the function `type()`."
   ]
  },
  {
   "cell_type": "code",
   "execution_count": 6,
   "id": "c437c522",
   "metadata": {},
   "outputs": [
    {
     "name": "stdout",
     "output_type": "stream",
     "text": [
      "<class 'int'>\n",
      "<class 'float'>\n",
      "<class 'complex'>\n",
      "<class 'bool'>\n",
      "<class 'str'>\n"
     ]
    }
   ],
   "source": [
    "print( type(integer1) )\n",
    "print( type(float1) )\n",
    "print( type(complex2) )\n",
    "print( type(bool1) )\n",
    "print( type(string3) )"
   ]
  },
  {
   "cell_type": "markdown",
   "id": "005965d9",
   "metadata": {},
   "source": [
    "# Basic mathematical operations\n",
    "\n",
    "* On number types: addition `+`, multiplication `*`, subtraction `-`, division `/`, power `**`, ...\n",
    "* On booleans: logical operations\n",
    "* On strings: concatenation, duplication, ..."
   ]
  },
  {
   "cell_type": "code",
   "execution_count": 7,
   "id": "e0efdaf4",
   "metadata": {},
   "outputs": [
    {
     "name": "stdout",
     "output_type": "stream",
     "text": [
      "a = 2\n",
      "b = 3\n",
      "a + b = 5\n",
      "a * b = 6\n",
      "a - b = -1\n",
      "a/b = 0.6666666666666666\n"
     ]
    }
   ],
   "source": [
    "a = 2\n",
    "print('a =',a)\n",
    "b = 3\n",
    "print('b =',b)\n",
    "c = a+b\n",
    "print('a + b =',c)\n",
    "d = a*b\n",
    "print('a * b =',d)\n",
    "\n",
    "# or directly in the function print()\n",
    "print('a - b =',a-b)\n",
    "print('a/b =',a/b)"
   ]
  },
  {
   "cell_type": "code",
   "execution_count": 8,
   "id": "c180efbb",
   "metadata": {},
   "outputs": [
    {
     "name": "stdout",
     "output_type": "stream",
     "text": [
      "z = (2+3j)\n",
      "Re(z) = 2.0\n",
      "Im(z) = 3.0\n",
      "z_conjugate = (2-3j)\n",
      "Re(z) = 2.0\n",
      "Im(z) = -3.0\n",
      "z * z_conjugate = (13+0j)\n",
      "z/z_conjugate = (-0.38461538461538464+0.9230769230769231j)\n"
     ]
    }
   ],
   "source": [
    "# complex numbers \n",
    "z = a + 1j * b\n",
    "print('z =',z)\n",
    "print('Re(z) =',z.real)\n",
    "print('Im(z) =',z.imag)\n",
    "\n",
    "z_conjugate = z.conjugate()\n",
    "print('z_conjugate =',z_conjugate)\n",
    "print('Re(z) =',z_conjugate.real)\n",
    "print('Im(z) =',z_conjugate.imag)\n",
    "\n",
    "print('z * z_conjugate =',z*z_conjugate)\n",
    "print('z/z_conjugate =',z/z_conjugate) "
   ]
  },
  {
   "cell_type": "markdown",
   "id": "852bd538",
   "metadata": {},
   "source": [
    "# Type casting (aka type conversion)\n",
    "\n",
    "We can cast types into each other using the built-in python functions: int(), float(), complex(), bool(), str()."
   ]
  },
  {
   "cell_type": "code",
   "execution_count": 9,
   "id": "bee4f539",
   "metadata": {},
   "outputs": [
    {
     "name": "stdout",
     "output_type": "stream",
     "text": [
      "12\n",
      "<class 'str'>\n"
     ]
    }
   ],
   "source": [
    "x1 = '1'\n",
    "y1 = '2'\n",
    "z1 = x1+y1 # 'adding' two strings concatenates them\n",
    "print( z1 )\n",
    "print( type(z1) )"
   ]
  },
  {
   "cell_type": "code",
   "execution_count": 10,
   "id": "1aa4346e",
   "metadata": {},
   "outputs": [
    {
     "name": "stdout",
     "output_type": "stream",
     "text": [
      "3\n",
      "<class 'int'>\n"
     ]
    }
   ],
   "source": [
    "x2 = int(x1)\n",
    "y2 = int(y1)\n",
    "z2 = x2+y2 # adding two integers results in another integer that contains the sum\n",
    "print( z2 )\n",
    "print( type(z2) )"
   ]
  },
  {
   "cell_type": "code",
   "execution_count": 11,
   "id": "26da4c51",
   "metadata": {},
   "outputs": [
    {
     "name": "stdout",
     "output_type": "stream",
     "text": [
      "3\n",
      "<class 'str'>\n"
     ]
    }
   ],
   "source": [
    "# type conversion of an integer to a string\n",
    "print( str(z2) )\n",
    "print( type( str(z2) ) )"
   ]
  },
  {
   "cell_type": "code",
   "execution_count": 12,
   "id": "27c3c601",
   "metadata": {},
   "outputs": [
    {
     "name": "stdout",
     "output_type": "stream",
     "text": [
      "<class 'int'>\n",
      "<class 'int'>\n",
      "<class 'float'>\n",
      "<class 'complex'>\n"
     ]
    }
   ],
   "source": [
    "# conversion happens automatically to the 'larger' set of numbers\n",
    "print( type(3) )\n",
    "\n",
    "print( type(3+4) )\n",
    "\n",
    "print( type(3+4.0) )\n",
    "\n",
    "print( type(3+4.0+1j) )"
   ]
  },
  {
   "cell_type": "code",
   "execution_count": 14,
   "id": "6c742fd7",
   "metadata": {},
   "outputs": [
    {
     "name": "stdout",
     "output_type": "stream",
     "text": [
      "2\n",
      "Re(z) = 2.6\n",
      "Im(z) = 3.0\n"
     ]
    }
   ],
   "source": [
    "# casting floats to integer cuts off the decimal digits.\n",
    "print( int(2.6) )\n",
    "# casting complex numbers to reals does not work like this. This will result in an error.\n",
    "#print( int(2.6 + 1j*3) )\n",
    "# use real and imaginary parts instead\n",
    "print( 'Re(z) =', (2.6 + 1j*3).real )\n",
    "print( 'Im(z) =', (2.6 + 1j*3).imag )"
   ]
  },
  {
   "cell_type": "code",
   "execution_count": 15,
   "id": "57a4aaf9",
   "metadata": {},
   "outputs": [
    {
     "name": "stdout",
     "output_type": "stream",
     "text": [
      "False\n",
      "True\n",
      "0\n",
      "1\n"
     ]
    }
   ],
   "source": [
    "# integers can be cast to booleans, everything except 0 maps to True, while 0 maps to False.\n",
    "print( bool(0) )\n",
    "print( bool(3) )\n",
    "# it also works the other way: False -> 0, True -> 1\n",
    "print( int(False) )\n",
    "print( int(True) )"
   ]
  },
  {
   "cell_type": "markdown",
   "id": "210d2630",
   "metadata": {},
   "source": [
    "# Two ways of printing strings"
   ]
  },
  {
   "cell_type": "code",
   "execution_count": 17,
   "id": "d517f645",
   "metadata": {},
   "outputs": [],
   "source": [
    "name1 = 'Alice'\n",
    "name2 = 'Bob'"
   ]
  },
  {
   "cell_type": "code",
   "execution_count": 19,
   "id": "24df69c6",
   "metadata": {},
   "outputs": [
    {
     "name": "stdout",
     "output_type": "stream",
     "text": [
      "Both Alice and Bob are each five years old!\n",
      "Both Alice and Bob are each five years old!\n"
     ]
    }
   ],
   "source": [
    "# print one string after the other.\n",
    "print('Both',name1,'and',name2,'are each five years old!')\n",
    "# concatenate all strings together and print them (check the spacing!).\n",
    "print('Both ' + name1 + ' and ' + name2 + ' are each five years old!')"
   ]
  },
  {
   "cell_type": "code",
   "execution_count": null,
   "id": "1f9d7627",
   "metadata": {},
   "outputs": [],
   "source": []
  }
 ],
 "metadata": {
  "kernelspec": {
   "display_name": "Python 3 (ipykernel)",
   "language": "python",
   "name": "python3"
  },
  "language_info": {
   "codemirror_mode": {
    "name": "ipython",
    "version": 3
   },
   "file_extension": ".py",
   "mimetype": "text/x-python",
   "name": "python",
   "nbconvert_exporter": "python",
   "pygments_lexer": "ipython3",
   "version": "3.7.6"
  }
 },
 "nbformat": 4,
 "nbformat_minor": 5
}
