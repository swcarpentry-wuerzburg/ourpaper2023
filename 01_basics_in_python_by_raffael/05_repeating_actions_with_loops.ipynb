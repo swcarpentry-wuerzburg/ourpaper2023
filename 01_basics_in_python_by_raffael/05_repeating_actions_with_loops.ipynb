{
 "cells": [
  {
   "cell_type": "markdown",
   "id": "e4ee81c2",
   "metadata": {},
   "source": [
    "# Control structures in programming languages"
   ]
  },
  {
   "cell_type": "markdown",
   "id": "03a7b2c6",
   "metadata": {},
   "source": [
    "Conditional checks: \n",
    "\n",
    "* if-else statement: check if a condition is met, else do something else.\n",
    "* switch-case statement: check if one of multiple predefined conditions is met. Exists since Python 3.10 using match-case keywords.\n",
    "\n",
    "There are 3 types of loops:\n",
    "\n",
    "* 'for' loops: Do something repeatedly for a fixed number of iterations.\n",
    "* 'while' loops: Do something repeatedly until a certain criterion is met. Conditional check is done at the beginning of each iteration. It can therefore happen that the code is not executed.\n",
    "* 'do-while' loops: Similar to 'while' loops but the conditional check is done at the end of each iteration. The code in the loop is executed at least one time. Does not exist as a built-in functionality in Python so far, can be emulated though. "
   ]
  },
  {
   "cell_type": "markdown",
   "id": "b55d94e7",
   "metadata": {},
   "source": [
    "# Looping over big sets of data"
   ]
  },
  {
   "cell_type": "code",
   "execution_count": 1,
   "id": "cf060cca",
   "metadata": {},
   "outputs": [
    {
     "name": "stdout",
     "output_type": "stream",
     "text": [
      "1\n",
      "2\n",
      "3\n",
      "4\n",
      "requires too many lines of (identical!) code\n"
     ]
    }
   ],
   "source": [
    "natural_numbers = [1,2,3,4,5,6,7,8,9,10]\n",
    "\n",
    "print(natural_numbers[0])\n",
    "print(natural_numbers[1])\n",
    "print(natural_numbers[2])\n",
    "print(natural_numbers[3])\n",
    "\n",
    "print('requires too many lines of (identical!) code')"
   ]
  },
  {
   "cell_type": "markdown",
   "id": "1ae2f649",
   "metadata": {},
   "source": [
    "This is a bad approach for three reasons:\n",
    "\n",
    "* Not scalable. Imagine you need to print a list that has hundreds of elements. It might be easier to type them in manually.\n",
    "\n",
    "* Difficult to maintain. If we want to decorate each printed element with an asterisk or any other character, we would have to change four lines of code. While this might not be a problem for small lists, it would definitely be a problem for longer ones.\n",
    "\n",
    "* Fragile. If we use it with a list that has more elements than what we initially envisioned, it will only display part of the list’s elements. A shorter list, on the other hand, will cause an error because it will be trying to display elements of the list that do not exist.\n"
   ]
  },
  {
   "cell_type": "markdown",
   "id": "046e49c3",
   "metadata": {},
   "source": [
    "# `for` loops"
   ]
  },
  {
   "cell_type": "code",
   "execution_count": 2,
   "id": "d2ec20d7",
   "metadata": {},
   "outputs": [
    {
     "name": "stdout",
     "output_type": "stream",
     "text": [
      "1\n",
      "2\n",
      "3\n",
      "4\n",
      "5\n",
      "6\n",
      "7\n",
      "8\n",
      "9\n",
      "10\n"
     ]
    }
   ],
   "source": [
    "# use a loop index to access the elements of the list via their index\n",
    "# we name the index i here\n",
    "for i in range(len(natural_numbers)):\n",
    "    print(natural_numbers[i])"
   ]
  },
  {
   "cell_type": "code",
   "execution_count": 3,
   "id": "7855896b",
   "metadata": {},
   "outputs": [
    {
     "name": "stdout",
     "output_type": "stream",
     "text": [
      "[1, 2, 3, 4, 5, 6, 7, 8, 9, 10, 11, 12, 13, 14, 15, 16, 17, 18, 19, 20, 21, 22, 23, 24, 25, 26, 27, 28, 29, 30, 31, 32, 33, 34, 35, 36, 37, 38, 39, 40, 41, 42, 43, 44, 45, 46, 47, 48, 49, 50]\n"
     ]
    }
   ],
   "source": [
    "# range(start,end,step), default starting is 0, default step is 1, endpoint not included \n",
    "# range(5) is equivalent to range(0,5,1)\n",
    "numbers = range(1,50+1,1)\n",
    "print(list(numbers))"
   ]
  },
  {
   "cell_type": "code",
   "execution_count": 4,
   "id": "c25d2eed",
   "metadata": {
    "scrolled": false
   },
   "outputs": [
    {
     "name": "stdout",
     "output_type": "stream",
     "text": [
      "1\n",
      "2\n",
      "3\n",
      "4\n",
      "5\n",
      "6\n",
      "7\n",
      "8\n",
      "9\n",
      "10\n"
     ]
    }
   ],
   "source": [
    "# if we are not interested in the index: access the elements directly\n",
    "for i in natural_numbers:\n",
    "    print(i)\n",
    "    \n",
    "# the index variable can also be named differently."
   ]
  },
  {
   "cell_type": "code",
   "execution_count": 5,
   "id": "d7b13b7c",
   "metadata": {
    "scrolled": true
   },
   "outputs": [
    {
     "name": "stdout",
     "output_type": "stream",
     "text": [
      "the list has 10 elements\n",
      "the list has 10 elements\n"
     ]
    }
   ],
   "source": [
    "# length of a list manually\n",
    "length = 0\n",
    "for i in natural_numbers:\n",
    "    length = length + 1\n",
    "    \n",
    "print('the list has',length,'elements')\n",
    "\n",
    "# common operation, built-in function\n",
    "print('the list has',len(natural_numbers),'elements')"
   ]
  },
  {
   "cell_type": "markdown",
   "id": "e123c637",
   "metadata": {},
   "source": [
    "# Little Gauss\n",
    "\n",
    "We want to check a well known result in mathematics derived by Gauss, namely that the sum of the first $N$ integers sums up to $N(N+1)/2$. As a formula, we want to show that \n",
    "\n",
    "$$\n",
    "\\sum_{n=1}^N n = 1 + 2 + \\cdots + N = \\frac{N (N+1)}{2}\n",
    "$$"
   ]
  },
  {
   "cell_type": "code",
   "execution_count": 6,
   "id": "8a2b8e55",
   "metadata": {},
   "outputs": [
    {
     "name": "stdout",
     "output_type": "stream",
     "text": [
      "total_sum = 5050\n",
      "N*(N+1)/2 = 5050.0\n",
      "total_sum == little_gauss? True\n"
     ]
    }
   ],
   "source": [
    "# sum up the first n integers.\n",
    "N = 100\n",
    "total_sum = 0 # sum will be integer\n",
    "# total_sum = 0.0 # sum will be float\n",
    "for n in range(1,N+1):\n",
    "    total_sum = total_sum + n\n",
    "print('total_sum =',total_sum)\n",
    "\n",
    "little_gauss = N*(N+1)/2\n",
    "print('N*(N+1)/2 =',little_gauss)\n",
    "\n",
    "print('total_sum == little_gauss?',total_sum == little_gauss)"
   ]
  },
  {
   "cell_type": "markdown",
   "id": "20de44bf",
   "metadata": {},
   "source": [
    "In the last line we introduced a comparison between a left-hand side and a right-hand side. This will return a boolean."
   ]
  },
  {
   "cell_type": "markdown",
   "id": "a2ab7100",
   "metadata": {},
   "source": [
    "# booleans, if-else statements"
   ]
  },
  {
   "cell_type": "code",
   "execution_count": 7,
   "id": "02bdbd6e",
   "metadata": {},
   "outputs": [
    {
     "name": "stdout",
     "output_type": "stream",
     "text": [
      "a is positive.\n"
     ]
    }
   ],
   "source": [
    "a = 3\n",
    "if a < 0:\n",
    "    print('a is negative.')\n",
    "elif a > 0:\n",
    "    print('a is positive.')\n",
    "else:\n",
    "    print('a is zero.')"
   ]
  },
  {
   "cell_type": "markdown",
   "id": "457bf264",
   "metadata": {},
   "source": [
    "What is happening here? This is where we meet booleans!"
   ]
  },
  {
   "cell_type": "code",
   "execution_count": 8,
   "id": "0f1923f2",
   "metadata": {},
   "outputs": [
    {
     "name": "stdout",
     "output_type": "stream",
     "text": [
      "False\n",
      "False\n",
      "True\n"
     ]
    }
   ],
   "source": [
    "a = 0\n",
    "print( a > 0 )\n",
    "print( a < 0 )\n",
    "print( a == 0 )"
   ]
  },
  {
   "cell_type": "markdown",
   "id": "a8eaa0bd",
   "metadata": {},
   "source": [
    "Logical operations on booleans:"
   ]
  },
  {
   "cell_type": "code",
   "execution_count": 9,
   "id": "03ace905",
   "metadata": {},
   "outputs": [
    {
     "name": "stdout",
     "output_type": "stream",
     "text": [
      "Are a and be equal? False\n",
      "Are a and be not equal? True\n",
      "Is a greater than b? False\n",
      "Is a smaller than b? True\n"
     ]
    }
   ],
   "source": [
    "a = 3\n",
    "b = 5\n",
    "\n",
    "# are a and be equal?\n",
    "print('Are a and be equal?', a == b )\n",
    "print('Are a and be not equal?', a != b )\n",
    "print('Is a greater than b?', a > b )\n",
    "print('Is a smaller than b?', a < b )"
   ]
  },
  {
   "cell_type": "markdown",
   "id": "d21fceb7",
   "metadata": {},
   "source": [
    "# Booleans and logical operations\n",
    "\n",
    "Booleans can only be `True` or `False` and this can be used to further control a program. Logical operations on booleans are:\n",
    "\n",
    "* logical AND: `&`. A statement `a&b` will return `True` only if both `a` and `b` are `True`, else it will be `False`.\n",
    "* logical OR: `|`. A statement `a|b` will return `True` if `a` or `b` or both are `True`, else it will be `False`.\n",
    "* logical exclusive OR (XOR): `^`. A statement `a^b` will return `True` if and only if either `a` or `b` is `True` but not both of them at the same time, else it will be `False`.\n",
    "* logical negation: `not()`. This will return `True` if the variable is `False` or vice versa."
   ]
  },
  {
   "cell_type": "code",
   "execution_count": 10,
   "id": "57123ae3",
   "metadata": {},
   "outputs": [
    {
     "name": "stdout",
     "output_type": "stream",
     "text": [
      "a and b are true simultaneously? False\n",
      "a and c are true simultaneously? True\n",
      "Is a or b true? True\n",
      "Is a or c true? True\n",
      "Is a or d true? False\n",
      "Is only one of a or b true? True\n",
      "Is only one of a or c true? False\n",
      "False\n",
      "True\n"
     ]
    }
   ],
   "source": [
    "a = True\n",
    "b = False\n",
    "c = True\n",
    "d = False\n",
    "\n",
    "'and'\n",
    "print('a and b are true simultaneously?', a & b)\n",
    "print('a and c are true simultaneously?', a & c)\n",
    "\n",
    "# inclusive 'or'\n",
    "print('Is a or b true?', a | b)\n",
    "print('Is a or c true?', a | c)\n",
    "print('Is a or d true?', b | d)\n",
    "\n",
    "# exclusive 'or', xor\n",
    "print('Is only one of a or b true?', a ^ b)\n",
    "print('Is only one of a or c true?', a ^ c)\n",
    "\n",
    "# negate a logical expression\n",
    "print(not(a))\n",
    "print(not(b))"
   ]
  },
  {
   "cell_type": "markdown",
   "id": "655e8cac",
   "metadata": {},
   "source": [
    "# `while` loops\n",
    "\n",
    "These are useful loops if we don't know how often a loop has to run until a certain condition is met."
   ]
  },
  {
   "cell_type": "code",
   "execution_count": 11,
   "id": "4db58d8e",
   "metadata": {},
   "outputs": [
    {
     "name": "stdout",
     "output_type": "stream",
     "text": [
      "total_sum = 5050\n",
      "n*(n+1)/2 = 5050.0\n",
      "total_sum == little_gauss? True\n"
     ]
    }
   ],
   "source": [
    "# sum up the first n integers.\n",
    "n = 100\n",
    "i = 1\n",
    "total_sum = 0 # sum will be integer\n",
    "# total_sum = 0.0 # sum will be float\n",
    "\n",
    "# the loop runs as long as i is smaller or equal than n\n",
    "while i <= n:\n",
    "    total_sum = total_sum + i\n",
    "    i = i+1    \n",
    "\n",
    "print('total_sum =',total_sum)\n",
    "\n",
    "little_gauss = n*(n+1)/2\n",
    "print('n*(n+1)/2 =',little_gauss)\n",
    "\n",
    "print('total_sum == little_gauss?',total_sum == little_gauss)"
   ]
  },
  {
   "cell_type": "markdown",
   "id": "4c961417",
   "metadata": {},
   "source": [
    "It is a well-known fact that\n",
    "$$ \\sum_{n=1}^\\infty \\frac{1}{n^4} = \\frac{\\pi^4}{90}.$$\n",
    "\n",
    "How many terms do we need to come close to the result? What is the error? Let us use a for-loop first:"
   ]
  },
  {
   "cell_type": "code",
   "execution_count": 12,
   "id": "680233ab",
   "metadata": {},
   "outputs": [
    {
     "name": "stdout",
     "output_type": "stream",
     "text": [
      "difference: 0.019823233711137922\n"
     ]
    }
   ],
   "source": [
    "import numpy as np\n",
    "\n",
    "sum_result = 0\n",
    "\n",
    "for n in range(1,3):\n",
    "    sum_result = sum_result + 1/(n**4)\n",
    "\n",
    "# numpy provides the constant number pi via np.pi and the abs() function takes the absolute value of a number\n",
    "print('difference:', np.abs( np.pi**4/90 - sum_result) )"
   ]
  },
  {
   "cell_type": "markdown",
   "id": "26b2e4d9",
   "metadata": {},
   "source": [
    "This is just trial and error. Can we specify the error and ask how many terms we need? Yes! Let us now use a while-loop:"
   ]
  },
  {
   "cell_type": "code",
   "execution_count": 13,
   "id": "e1399e8c",
   "metadata": {},
   "outputs": [
    {
     "name": "stdout",
     "output_type": "stream",
     "text": [
      "We need 32 terms in the summation to have an absolute error below 1e-05 .\n",
      "Result of the summation: 1.0823135280929916\n",
      "Exact result: 1.082323233711138\n"
     ]
    }
   ],
   "source": [
    "n = 0\n",
    "error = 1e-5\n",
    "sum_result = 0\n",
    "desired_result = np.pi**4/90\n",
    "\n",
    "# Here we check always if the condition is true. If not, we stop the loop.\n",
    "while (np.abs(desired_result-sum_result) >= error):\n",
    "    n = n + 1\n",
    "    sum_result = sum_result + 1/(n**4)\n",
    "    \n",
    "print('We need',n,'terms in the summation to have an absolute error below',error,'.')\n",
    "print('Result of the summation:',sum_result)\n",
    "print('Exact result:',desired_result)"
   ]
  },
  {
   "cell_type": "markdown",
   "id": "889d8a59",
   "metadata": {},
   "source": [
    "We can also create an endless loop. Because the condition to execute another iteration in the loop is always `True`, the loop never stops! This can be fixed with an `if`-condition and a `break` statement inside the `if`-condition."
   ]
  },
  {
   "cell_type": "code",
   "execution_count": 14,
   "id": "0508d255",
   "metadata": {},
   "outputs": [
    {
     "name": "stdout",
     "output_type": "stream",
     "text": [
      "1\n",
      "2\n",
      "3\n",
      "4\n",
      "5\n"
     ]
    }
   ],
   "source": [
    "x = 1\n",
    "while True:\n",
    "    print(x)\n",
    "    x = x+1\n",
    "    if x > 5:\n",
    "        break"
   ]
  },
  {
   "cell_type": "markdown",
   "id": "8d6cfd33",
   "metadata": {},
   "source": [
    "Let us now do the same code as above to get the number of iterations:"
   ]
  },
  {
   "cell_type": "code",
   "execution_count": 15,
   "id": "4c784d88",
   "metadata": {},
   "outputs": [
    {
     "name": "stdout",
     "output_type": "stream",
     "text": [
      "We need 32 terms in the summation to have an absolute error below 1e-05 .\n",
      "Result of the summation: 1.0823135280929916\n",
      "Exact result: 1.082323233711138\n"
     ]
    }
   ],
   "source": [
    "n = 0\n",
    "error = 1e-5\n",
    "sum_result = 0\n",
    "desired_result = np.pi**4/90\n",
    "\n",
    "while True: #here we check always if the condition is true. If not, we stop the loop.\n",
    "    n = n + 1\n",
    "    sum_result = sum_result + 1/(n**4)\n",
    "    # notice now that we want to leave the loop if the error is SMALL ENOUGH!\n",
    "    # Before, we continued the loop as long as the error is TOO LARGE!\n",
    "    if (np.abs(desired_result-sum_result) <= error):\n",
    "        break\n",
    "    \n",
    "print('We need',n,'terms in the summation to have an absolute error below',error,'.')\n",
    "print('Result of the summation:',sum_result)\n",
    "print('Exact result:',desired_result)"
   ]
  },
  {
   "cell_type": "markdown",
   "id": "1b5cad1d",
   "metadata": {},
   "source": [
    "# Exercise\n",
    "\n",
    "Figure out the number of terms $N$ in the sum that we need to have\n",
    "$$\n",
    "\\left| \\frac{\\pi^2}{6} - \\sum_{n=1}^N \\frac{1}{n^2} \\right| < 10^{-5}.\n",
    "$$"
   ]
  },
  {
   "cell_type": "code",
   "execution_count": null,
   "id": "68d1d24f",
   "metadata": {},
   "outputs": [],
   "source": []
  },
  {
   "cell_type": "code",
   "execution_count": null,
   "id": "c6c033ed",
   "metadata": {},
   "outputs": [],
   "source": []
  }
 ],
 "metadata": {
  "kernelspec": {
   "display_name": "Python 3 (ipykernel)",
   "language": "python",
   "name": "python3"
  },
  "language_info": {
   "codemirror_mode": {
    "name": "ipython",
    "version": 3
   },
   "file_extension": ".py",
   "mimetype": "text/x-python",
   "name": "python",
   "nbconvert_exporter": "python",
   "pygments_lexer": "ipython3",
   "version": "3.7.6"
  }
 },
 "nbformat": 4,
 "nbformat_minor": 5
}
