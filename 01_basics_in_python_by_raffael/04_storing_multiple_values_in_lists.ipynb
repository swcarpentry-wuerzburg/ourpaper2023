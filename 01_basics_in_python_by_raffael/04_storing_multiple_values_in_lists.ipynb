{
 "cells": [
  {
   "cell_type": "markdown",
   "id": "925dfc2d",
   "metadata": {},
   "source": [
    "# Lists\n",
    "\n",
    "A list is a collection of things separated by commas. Lists can contain different data types in each element."
   ]
  },
  {
   "cell_type": "code",
   "execution_count": 1,
   "id": "ebb14be1",
   "metadata": {},
   "outputs": [
    {
     "name": "stdout",
     "output_type": "stream",
     "text": [
      "odds are: [1, 3, 5, 7, 9]\n"
     ]
    }
   ],
   "source": [
    "odds = [1,3,5,7,9]\n",
    "print('odds are:',odds)"
   ]
  },
  {
   "cell_type": "code",
   "execution_count": 2,
   "id": "5147a913",
   "metadata": {},
   "outputs": [
    {
     "name": "stdout",
     "output_type": "stream",
     "text": [
      "The list contains 5 elements.\n"
     ]
    }
   ],
   "source": [
    "# knowing the length of a list is often useful (see loops etc.)\n",
    "n = len(odds)\n",
    "print('The list contains',n,'elements.')"
   ]
  },
  {
   "cell_type": "code",
   "execution_count": 3,
   "id": "dfc7443f",
   "metadata": {},
   "outputs": [
    {
     "name": "stdout",
     "output_type": "stream",
     "text": [
      "first element: 1\n",
      "last element: 9\n",
      "third element: 5\n",
      "second last element: 7\n"
     ]
    }
   ],
   "source": [
    "# access elements of the list\n",
    "print('first element:',odds[0])\n",
    "print('last element:',odds[-1])\n",
    "print('third element:',odds[2])\n",
    "print('second last element:',odds[-2])"
   ]
  },
  {
   "cell_type": "markdown",
   "id": "8313a60c",
   "metadata": {},
   "source": [
    "Strings are lists of characters."
   ]
  },
  {
   "cell_type": "code",
   "execution_count": 4,
   "id": "9c62468c",
   "metadata": {},
   "outputs": [
    {
     "name": "stdout",
     "output_type": "stream",
     "text": [
      "names is originally: ['Curie', 'Darwing', 'Turing']\n",
      "final value of names: ['Curie', 'Darwin', 'Turing']\n"
     ]
    }
   ],
   "source": [
    "names = ['Curie', 'Darwing', 'Turing']  # typo in Darwin's name\n",
    "print('names is originally:', names)\n",
    "names[1] = 'Darwin'  # correct the name by changing element 1 to 'Darwin'\n",
    "print('final value of names:', names)"
   ]
  },
  {
   "cell_type": "markdown",
   "id": "04a265f0",
   "metadata": {},
   "source": [
    "Individual characters cannot be changed."
   ]
  },
  {
   "cell_type": "code",
   "execution_count": 5,
   "id": "59915f89",
   "metadata": {},
   "outputs": [
    {
     "name": "stdout",
     "output_type": "stream",
     "text": [
      "Darwin\n",
      "D\n"
     ]
    },
    {
     "ename": "TypeError",
     "evalue": "'str' object does not support item assignment",
     "output_type": "error",
     "traceback": [
      "\u001b[0;31m---------------------------------------------------------------------------\u001b[0m",
      "\u001b[0;31mTypeError\u001b[0m                                 Traceback (most recent call last)",
      "\u001b[0;32m/var/folders/69/qmk06lyd6n5_h18fgrhh1c5c0000gn/T/ipykernel_15755/4108271316.py\u001b[0m in \u001b[0;36m<module>\u001b[0;34m\u001b[0m\n\u001b[1;32m      1\u001b[0m \u001b[0mprint\u001b[0m\u001b[0;34m(\u001b[0m \u001b[0mnames\u001b[0m\u001b[0;34m[\u001b[0m\u001b[0;36m1\u001b[0m\u001b[0;34m]\u001b[0m \u001b[0;34m)\u001b[0m\u001b[0;34m\u001b[0m\u001b[0;34m\u001b[0m\u001b[0m\n\u001b[1;32m      2\u001b[0m \u001b[0mprint\u001b[0m\u001b[0;34m(\u001b[0m \u001b[0mnames\u001b[0m\u001b[0;34m[\u001b[0m\u001b[0;36m1\u001b[0m\u001b[0;34m]\u001b[0m\u001b[0;34m[\u001b[0m\u001b[0;36m0\u001b[0m\u001b[0;34m]\u001b[0m \u001b[0;34m)\u001b[0m\u001b[0;34m\u001b[0m\u001b[0;34m\u001b[0m\u001b[0m\n\u001b[0;32m----> 3\u001b[0;31m \u001b[0mnames\u001b[0m\u001b[0;34m[\u001b[0m\u001b[0;36m1\u001b[0m\u001b[0;34m]\u001b[0m\u001b[0;34m[\u001b[0m\u001b[0;36m0\u001b[0m\u001b[0;34m]\u001b[0m \u001b[0;34m=\u001b[0m \u001b[0;34m'd'\u001b[0m\u001b[0;34m\u001b[0m\u001b[0;34m\u001b[0m\u001b[0m\n\u001b[0m",
      "\u001b[0;31mTypeError\u001b[0m: 'str' object does not support item assignment"
     ]
    }
   ],
   "source": [
    "print( names[1] )\n",
    "print( names[1][0] )\n",
    "names[1][0] = 'd'"
   ]
  },
  {
   "cell_type": "code",
   "execution_count": 6,
   "id": "4ed72a6f",
   "metadata": {},
   "outputs": [
    {
     "data": {
      "text/plain": [
       "['Curie', 'Darwin', 'Turing']"
      ]
     },
     "execution_count": 6,
     "metadata": {},
     "output_type": "execute_result"
    }
   ],
   "source": [
    "names = ['Curie', 'Darwing', 'Turing']\n",
    "names[1] = names[1][0:-1]\n",
    "names"
   ]
  },
  {
   "cell_type": "markdown",
   "id": "b65c39f3",
   "metadata": {},
   "source": [
    "Strings and numbers are immutable. We cannot change them, we can only assign new Strings and numbers to them.\n",
    "\n",
    "Lists and arrays are mutable. We can modify individual elements, append new elements, reorder the complete list.\n",
    "\n",
    "Mutable things can be modified in-place (modify the actual object) or out-of-place (return a modified copy, leave original as is)."
   ]
  },
  {
   "cell_type": "code",
   "execution_count": 7,
   "id": "82842b28",
   "metadata": {},
   "outputs": [
    {
     "name": "stdout",
     "output_type": "stream",
     "text": [
      "The original salsa recipe is:  ['hot peppers', 'onions', 'cilantro', 'tomatoes']\n",
      "The new salsa recipe is:  ['hot peppers', 'onions', 'cilantro', 'tomatoes']\n"
     ]
    }
   ],
   "source": [
    "salsa = ['peppers','onions','cilantro','tomatoes']\n",
    "my_salsa = salsa # my_salsa and salsa point to the *same* list of data in the memory\n",
    "my_salsa[0] = 'hot peppers'\n",
    "print('The original salsa recipe is: ',salsa) # wrong !\n",
    "print('The new salsa recipe is: ',my_salsa) "
   ]
  },
  {
   "cell_type": "markdown",
   "id": "d32a1b46",
   "metadata": {},
   "source": [
    "To make a true copy with independent data, we have to write:"
   ]
  },
  {
   "cell_type": "code",
   "execution_count": 8,
   "id": "5c1e5f36",
   "metadata": {},
   "outputs": [
    {
     "name": "stdout",
     "output_type": "stream",
     "text": [
      "The original salsa recipe is:  ['peppers', 'onions', 'cilantro', 'tomatoes']\n",
      "The new salsa recipe is:  ['hot peppers', 'onions', 'cilantro', 'tomatoes']\n"
     ]
    }
   ],
   "source": [
    "salsa = ['peppers','onions','cilantro','tomatoes']\n",
    "my_salsa = list(salsa) # my_salsa and salsa point to different lists of data in the memory\n",
    "my_salsa[0] = 'hot peppers'\n",
    "print('The original salsa recipe is: ',salsa) # correct !\n",
    "print('The new salsa recipe is: ',my_salsa) "
   ]
  },
  {
   "cell_type": "code",
   "execution_count": 9,
   "id": "759dc87e",
   "metadata": {},
   "outputs": [],
   "source": [
    "# Lists can contain any objects.\n",
    "veg = [['lettuce','lettuce','peppers','zucchini'],\n",
    "       ['lettuce','lettuce','peppers','zucchini'],\n",
    "       ['lettuce','cilantro','peppers','zucchini']]"
   ]
  },
  {
   "cell_type": "code",
   "execution_count": 10,
   "id": "c29ba374",
   "metadata": {},
   "outputs": [
    {
     "name": "stdout",
     "output_type": "stream",
     "text": [
      "['lettuce', 'lettuce', 'peppers', 'zucchini']\n",
      "['lettuce', 'cilantro', 'peppers', 'zucchini']\n"
     ]
    }
   ],
   "source": [
    "# access the first list\n",
    "print( veg[0] )\n",
    "# access the last list\n",
    "print( veg[-1] )"
   ]
  },
  {
   "cell_type": "markdown",
   "id": "d56a2b00",
   "metadata": {},
   "source": [
    "# Heterogeneous lists"
   ]
  },
  {
   "cell_type": "code",
   "execution_count": 11,
   "id": "89056f6d",
   "metadata": {},
   "outputs": [],
   "source": [
    "# lists can also contain objects of different type\n",
    "sample_ages = [10,12.5,'Unknown']"
   ]
  },
  {
   "cell_type": "code",
   "execution_count": 12,
   "id": "4a73843f",
   "metadata": {},
   "outputs": [
    {
     "name": "stdout",
     "output_type": "stream",
     "text": [
      "<class 'list'>\n",
      "<class 'int'>\n",
      "<class 'float'>\n",
      "<class 'str'>\n"
     ]
    }
   ],
   "source": [
    "print( type(sample_ages) )\n",
    "print( type(sample_ages[0]) )\n",
    "print( type(sample_ages[1]) )\n",
    "print( type(sample_ages[2]) )"
   ]
  },
  {
   "cell_type": "markdown",
   "id": "801c6461",
   "metadata": {},
   "source": [
    "# Change lists by appending or removing"
   ]
  },
  {
   "cell_type": "code",
   "execution_count": 13,
   "id": "c4858e4d",
   "metadata": {},
   "outputs": [
    {
     "name": "stdout",
     "output_type": "stream",
     "text": [
      "Original list: [1, 3, 5, 7, 9]\n",
      "Another element with value 11 has been appended: [1, 3, 5, 7, 9, 11]\n",
      "[1, 5, 7, 9, 11]\n",
      "Element 1 with value 3 has been removed!\n",
      "List in reversed order: [11, 9, 7, 5, 1]\n"
     ]
    }
   ],
   "source": [
    "odds = [1,3,5,7,9]\n",
    "print('Original list:',odds)\n",
    "\n",
    "odds.append(11)\n",
    "print('Another element with value 11 has been appended:',odds)\n",
    "\n",
    "removed_element = odds.pop(1) # remove element 1 and store it in variable 'removed_element'\n",
    "print(odds)\n",
    "print('Element 1 with value', removed_element, 'has been removed!')\n",
    "\n",
    "odds.reverse()\n",
    "print('List in reversed order:',odds)"
   ]
  },
  {
   "cell_type": "code",
   "execution_count": 14,
   "id": "f41f39c4",
   "metadata": {},
   "outputs": [
    {
     "name": "stdout",
     "output_type": "stream",
     "text": [
      "odds: [3, 5, 7, 2]\n",
      "primes: [3, 5, 7, 2]\n"
     ]
    }
   ],
   "source": [
    "# again: trouble when two variables point to the same list\n",
    "odds = [3,5,7]\n",
    "primes = odds\n",
    "primes.append(2)\n",
    "\n",
    "print('odds:',odds)\n",
    "print('primes:',primes)"
   ]
  },
  {
   "cell_type": "code",
   "execution_count": 15,
   "id": "8d0a417a",
   "metadata": {},
   "outputs": [
    {
     "name": "stdout",
     "output_type": "stream",
     "text": [
      "odds: [3, 5, 7]\n",
      "primes: [3, 5, 7, 2]\n"
     ]
    }
   ],
   "source": [
    "# again: an independent copy is created as\n",
    "odds = [3,5,7]\n",
    "primes = list(odds)\n",
    "primes.append(2)\n",
    "\n",
    "print('odds:',odds)\n",
    "print('primes:',primes)"
   ]
  },
  {
   "cell_type": "markdown",
   "id": "f0bcfb35",
   "metadata": {},
   "source": [
    "# Slicing of lists and strings\n",
    "\n",
    "Slicing to create subsets of lists and strings works the same as for Numpy arrays."
   ]
  },
  {
   "cell_type": "code",
   "execution_count": 16,
   "id": "02616ffb",
   "metadata": {},
   "outputs": [
    {
     "ename": "NameError",
     "evalue": "name 'binomal_name' is not defined",
     "output_type": "error",
     "traceback": [
      "\u001b[0;31m---------------------------------------------------------------------------\u001b[0m",
      "\u001b[0;31mNameError\u001b[0m                                 Traceback (most recent call last)",
      "\u001b[0;32m/var/folders/69/qmk06lyd6n5_h18fgrhh1c5c0000gn/T/ipykernel_15755/3958780954.py\u001b[0m in \u001b[0;36m<module>\u001b[0;34m\u001b[0m\n\u001b[1;32m      1\u001b[0m \u001b[0mbinomial_name\u001b[0m \u001b[0;34m=\u001b[0m \u001b[0;34m'Drosophila melanogaster'\u001b[0m\u001b[0;34m\u001b[0m\u001b[0;34m\u001b[0m\u001b[0m\n\u001b[0;32m----> 2\u001b[0;31m \u001b[0mgroup\u001b[0m \u001b[0;34m=\u001b[0m \u001b[0mbinomal_name\u001b[0m\u001b[0;34m[\u001b[0m\u001b[0;36m0\u001b[0m\u001b[0;34m:\u001b[0m\u001b[0;36m10\u001b[0m\u001b[0;34m]\u001b[0m\u001b[0;34m\u001b[0m\u001b[0;34m\u001b[0m\u001b[0m\n\u001b[0m\u001b[1;32m      3\u001b[0m \u001b[0mprint\u001b[0m\u001b[0;34m(\u001b[0m\u001b[0;34m'group:'\u001b[0m\u001b[0;34m,\u001b[0m \u001b[0mgroup\u001b[0m\u001b[0;34m)\u001b[0m\u001b[0;34m\u001b[0m\u001b[0;34m\u001b[0m\u001b[0m\n\u001b[1;32m      4\u001b[0m \u001b[0;34m\u001b[0m\u001b[0m\n\u001b[1;32m      5\u001b[0m \u001b[0mspecies\u001b[0m \u001b[0;34m=\u001b[0m \u001b[0mbinomial_name\u001b[0m\u001b[0;34m[\u001b[0m\u001b[0;36m11\u001b[0m\u001b[0;34m:\u001b[0m\u001b[0mlen\u001b[0m\u001b[0;34m(\u001b[0m\u001b[0mbinomial_name\u001b[0m\u001b[0;34m)\u001b[0m\u001b[0;34m]\u001b[0m\u001b[0;34m\u001b[0m\u001b[0;34m\u001b[0m\u001b[0m\n",
      "\u001b[0;31mNameError\u001b[0m: name 'binomal_name' is not defined"
     ]
    }
   ],
   "source": [
    "binomial_name = 'Drosophila melanogaster'\n",
    "group = binomal_name[0:10]\n",
    "print('group:', group)\n",
    "\n",
    "species = binomial_name[11:len(binomial_name)]\n",
    "print('species:',species)\n",
    "\n",
    "chromosomes = ['X','Y','2','3','4']\n",
    "autosomes = chromosomes[2:len(chromosomes)]\n",
    "print('autosomes:',autosomes)\n",
    "\n",
    "last = chromosomes[-1]\n",
    "print('last autosome:',last)"
   ]
  },
  {
   "cell_type": "code",
   "execution_count": 17,
   "id": "2c9278f2",
   "metadata": {},
   "outputs": [
    {
     "name": "stdout",
     "output_type": "stream",
     "text": [
      "Using 0 to begin range: Wednesday\n",
      "Omitting beginning index: Wednesday\n",
      "Using 23 to end range: 2023\n",
      "Omitting ending index: 2023\n",
      "Using length of list: 2023\n"
     ]
    }
   ],
   "source": [
    "# omitting the beginning or end index of a list\n",
    "date = 'Wednesday 23 March 2023'\n",
    "day1 = date[0:9]\n",
    "print('Using 0 to begin range:',day1)\n",
    "day2 = date[:9]\n",
    "print('Omitting beginning index:',day2)\n",
    "year1 = date[19:23]\n",
    "print('Using 23 to end range:',year1)\n",
    "year2 = date[19:]\n",
    "print('Omitting ending index:',year2)\n",
    "year3 = date[19:len(date)]\n",
    "print('Using length of list:',year3)"
   ]
  },
  {
   "cell_type": "markdown",
   "id": "3830b847",
   "metadata": {},
   "source": [
    "# Concatenating lists"
   ]
  },
  {
   "cell_type": "code",
   "execution_count": 18,
   "id": "b2979c87",
   "metadata": {},
   "outputs": [
    {
     "name": "stdout",
     "output_type": "stream",
     "text": [
      "[2, 4, 6, 8, 10, 12, 14, 1, 3, 5, 7, 9, 11, 13, 15]\n",
      "[1, 2, 3, 4, 5, 6, 7, 8, 9, 10, 11, 12, 13, 14, 15]\n"
     ]
    }
   ],
   "source": [
    "evens = [2,4,6,8,10,12,14]\n",
    "odds = [1,3,5,7,9,11,13,15]\n",
    "# 'addition' on lists and strings concatenates them\n",
    "natural_numbers = evens + odds\n",
    "print(natural_numbers)\n",
    "# we can also sort the list\n",
    "natural_numbers.sort()\n",
    "print(natural_numbers)"
   ]
  },
  {
   "cell_type": "code",
   "execution_count": 19,
   "id": "e8080f2c",
   "metadata": {},
   "outputs": [
    {
     "ename": "NameError",
     "evalue": "name 'counts' is not defined",
     "output_type": "error",
     "traceback": [
      "\u001b[0;31m---------------------------------------------------------------------------\u001b[0m",
      "\u001b[0;31mNameError\u001b[0m                                 Traceback (most recent call last)",
      "\u001b[0;32m/var/folders/69/qmk06lyd6n5_h18fgrhh1c5c0000gn/T/ipykernel_15755/2504151776.py\u001b[0m in \u001b[0;36m<module>\u001b[0;34m\u001b[0m\n\u001b[1;32m      1\u001b[0m \u001b[0;31m# multiplication with a number n leads to appending n copies\u001b[0m\u001b[0;34m\u001b[0m\u001b[0;34m\u001b[0m\u001b[0;34m\u001b[0m\u001b[0m\n\u001b[0;32m----> 2\u001b[0;31m \u001b[0mprint\u001b[0m\u001b[0;34m(\u001b[0m \u001b[0;36m3\u001b[0m\u001b[0;34m*\u001b[0m\u001b[0mcounts\u001b[0m \u001b[0;34m)\u001b[0m\u001b[0;34m\u001b[0m\u001b[0;34m\u001b[0m\u001b[0m\n\u001b[0m",
      "\u001b[0;31mNameError\u001b[0m: name 'counts' is not defined"
     ]
    }
   ],
   "source": [
    "# multiplication with a number n leads to appending n copies\n",
    "print( 3*counts )"
   ]
  },
  {
   "cell_type": "code",
   "execution_count": null,
   "id": "125abfa8",
   "metadata": {},
   "outputs": [],
   "source": []
  },
  {
   "cell_type": "code",
   "execution_count": null,
   "id": "fb0f748b",
   "metadata": {},
   "outputs": [],
   "source": []
  }
 ],
 "metadata": {
  "kernelspec": {
   "display_name": "Python 3 (ipykernel)",
   "language": "python",
   "name": "python3"
  },
  "language_info": {
   "codemirror_mode": {
    "name": "ipython",
    "version": 3
   },
   "file_extension": ".py",
   "mimetype": "text/x-python",
   "name": "python",
   "nbconvert_exporter": "python",
   "pygments_lexer": "ipython3",
   "version": "3.7.6"
  }
 },
 "nbformat": 4,
 "nbformat_minor": 5
}
