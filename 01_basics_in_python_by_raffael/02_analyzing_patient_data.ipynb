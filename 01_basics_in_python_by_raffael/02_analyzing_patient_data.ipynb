{
 "cells": [
  {
   "cell_type": "markdown",
   "id": "05b74a5d",
   "metadata": {},
   "source": [
    "# Load the patient data into our program\n",
    "\n",
    "For special tasks we need to import different packages. For mathematical operations and data manipulation, the package `numpy` provides suitable functionality and we will define a short-hand notation `np` to which we will always refer. "
   ]
  },
  {
   "cell_type": "code",
   "execution_count": 2,
   "id": "ec409542",
   "metadata": {},
   "outputs": [],
   "source": [
    "# import <package> as <short name>\n",
    "import numpy as np"
   ]
  },
  {
   "cell_type": "code",
   "execution_count": 3,
   "id": "6120b2e5",
   "metadata": {},
   "outputs": [],
   "source": [
    "# loading the data: filename and delimiter have to be strings. \n",
    "# please change to your directory where the data files are stored\n",
    "data = np.loadtxt(fname='../data/inflammation-01.csv', delimiter=',')"
   ]
  },
  {
   "cell_type": "code",
   "execution_count": 4,
   "id": "020600f4",
   "metadata": {
    "scrolled": true
   },
   "outputs": [
    {
     "name": "stdout",
     "output_type": "stream",
     "text": [
      "[[0. 0. 1. ... 3. 0. 0.]\n",
      " [0. 1. 2. ... 1. 0. 1.]\n",
      " [0. 1. 1. ... 2. 1. 1.]\n",
      " ...\n",
      " [0. 1. 1. ... 1. 1. 1.]\n",
      " [0. 0. 0. ... 0. 2. 0.]\n",
      " [0. 0. 1. ... 1. 1. 0.]]\n",
      "<class 'numpy.ndarray'>\n",
      "(60, 40)\n",
      "float64\n"
     ]
    }
   ],
   "source": [
    "# check the data that we loaded\n",
    "print(data)\n",
    "print(type(data)) # data is an object of the numpy.ndarray class. \n",
    "print(data.shape) # it has several attributes like its shape or data type (dtype)\n",
    "print(data.dtype) # numpy provides different data types, like float64"
   ]
  },
  {
   "cell_type": "markdown",
   "id": "727c5ae6",
   "metadata": {},
   "source": [
    "Now our imported data set looks like this:\n",
    "$$\n",
    "\\text{data} = \\begin{pmatrix}\n",
    "\\text{data}[0,0] & \\text{data}[0,1] & \\cdots &  \\text{data}[0,39] \\\\\n",
    "\\text{data}[1,0] & \\text{data}[1,1] & \\cdots &  \\text{data}[1,39] \\\\\n",
    "\\vdots & \\vdots & \\ddots & \\vdots \\\\\n",
    "\\text{data}[59,0] & \\text{data}[59,1] & \\cdots  & \\text{data}[59,39]\n",
    "\\end{pmatrix}\n",
    "$$\n",
    "Notice that Python starts counting and indexing at `0`."
   ]
  },
  {
   "cell_type": "markdown",
   "id": "23db5f4e",
   "metadata": {},
   "source": [
    "# Access elements of the data\n",
    "\n",
    "We access elements as `data[0,2]` which gives `1`. We can also access a full column or row by putting `:` as the respective index."
   ]
  },
  {
   "cell_type": "code",
   "execution_count": 7,
   "id": "d257d36a",
   "metadata": {},
   "outputs": [
    {
     "name": "stdout",
     "output_type": "stream",
     "text": [
      "11-element of the matrix:  0.0\n",
      "02-element of the matrix:  1.0\n",
      "inflammation of patient 1 for each day:  [ 0.  1.  2.  1.  2.  1.  3.  2.  2.  6. 10. 11.  5.  9.  4.  4.  7. 16.\n",
      "  8.  6. 18.  4. 12.  5. 12.  7. 11.  5. 11.  3.  3.  5.  4.  4.  5.  5.\n",
      "  1.  1.  0.  1.]\n",
      "inflammation of all patients on day 20:  [ 6. 18. 19. 17.  9. 12.  9. 20.  6. 18.  8.  9. 13. 15. 12.  9. 13. 13.\n",
      "  7.  9. 18. 12. 16. 14. 17.  7.  9. 15. 20. 14. 13. 19. 11. 10. 14. 15.\n",
      " 16. 15. 19. 15. 18. 19. 12. 18.  6. 14. 19. 10. 12. 16.  5. 20. 11. 15.\n",
      " 16. 16. 14.  9.  8.  6.]\n"
     ]
    }
   ],
   "source": [
    "print('11-element of the matrix: ',data[0,0])\n",
    "print('02-element of the matrix: ',data[0,2])\n",
    "print('inflammation of patient 1 for each day: ',data[1,:])\n",
    "print('inflammation of all patients on day 20: ',data[:,20])"
   ]
  },
  {
   "cell_type": "markdown",
   "id": "72995945",
   "metadata": {},
   "source": [
    "# Slice out sections of an array\n",
    "\n",
    "If we do not want to have a full column or row, we can specify the index range via `start:stop`. Notice that the value of `stop` is excluded.\n",
    "\n",
    "Example: `data[3:5,:]` gives the data of the patients 3 and 4, since 5 is excluded."
   ]
  },
  {
   "cell_type": "code",
   "execution_count": 8,
   "id": "0678ccfd",
   "metadata": {},
   "outputs": [
    {
     "name": "stdout",
     "output_type": "stream",
     "text": [
      "[[ 0.  0.  2.  0.  4.  2.  2.  1.  6.  7. 10.  7.  9. 13.  8.  8. 15. 10.\n",
      "  10.  7. 17.  4.  4.  7.  6. 15.  6.  4.  9. 11.  3.  5.  6.  3.  3.  4.\n",
      "   2.  3.  2.  1.]\n",
      " [ 0.  1.  1.  3.  3.  1.  3.  5.  2.  4.  4.  7.  6.  5.  3. 10.  8. 10.\n",
      "   6. 17.  9. 14.  9.  7. 13.  9. 12.  6.  7.  7.  9.  6.  3.  2.  2.  4.\n",
      "   2.  0.  1.  1.]]\n",
      "(2, 40)\n"
     ]
    }
   ],
   "source": [
    "# slice out the data of patients 3 and 4\n",
    "print(data[3:5,:])\n",
    "print(data[3:5,:].shape)"
   ]
  },
  {
   "cell_type": "code",
   "execution_count": 9,
   "id": "24b1f636",
   "metadata": {},
   "outputs": [
    {
     "name": "stdout",
     "output_type": "stream",
     "text": [
      "[[4. 2. 2. 1. 6. 7.]\n",
      " [3. 1. 3. 5. 2. 4.]\n",
      " [2. 4. 2. 1. 6. 4.]\n",
      " [4. 2. 2. 5. 5. 8.]]\n",
      "(4, 6)\n"
     ]
    }
   ],
   "source": [
    "# get the data of patients 3 to 6 between day 4 to 9\n",
    "small = data[3:7,4:10]\n",
    "print(small)\n",
    "print(small.shape)"
   ]
  },
  {
   "cell_type": "markdown",
   "id": "327f9406",
   "metadata": {},
   "source": [
    "# Some first analysis of our data\n",
    "\n",
    "Now we would like to apply the functions `min()`, `max()`, or `std()` from the `numpy` package."
   ]
  },
  {
   "cell_type": "code",
   "execution_count": 13,
   "id": "4f61c800",
   "metadata": {},
   "outputs": [
    {
     "data": {
      "text/plain": [
       "6.14875"
      ]
     },
     "execution_count": 13,
     "metadata": {},
     "output_type": "execute_result"
    }
   ],
   "source": [
    "# what is the mean inflammation across the whole data set?\n",
    "np.mean(data)"
   ]
  },
  {
   "cell_type": "code",
   "execution_count": 15,
   "id": "17ec755d",
   "metadata": {},
   "outputs": [],
   "source": [
    "# 3 assignments to 3 variables.\n",
    "maxval, minval, stdval = np.max(data), np.min(data), np.std(data)"
   ]
  },
  {
   "cell_type": "code",
   "execution_count": 16,
   "id": "21bb5478",
   "metadata": {},
   "outputs": [
    {
     "name": "stdout",
     "output_type": "stream",
     "text": [
      "maximum inflammation: 20.0\n",
      "minimum inflammation: 0.0\n",
      "standard deviation: 4.613833197118566\n"
     ]
    }
   ],
   "source": [
    "print('maximum inflammation:', maxval)\n",
    "print('minimum inflammation:', minval)\n",
    "print('standard deviation:', stdval)"
   ]
  },
  {
   "cell_type": "code",
   "execution_count": 17,
   "id": "7b9d7bf6",
   "metadata": {},
   "outputs": [],
   "source": [
    "# check what a function does by accessing its documentation\n",
    "np.max?"
   ]
  },
  {
   "cell_type": "code",
   "execution_count": 38,
   "id": "c4f6f4a0",
   "metadata": {},
   "outputs": [
    {
     "name": "stdout",
     "output_type": "stream",
     "text": [
      "maximum inflammation for patient 0: 18.0\n"
     ]
    }
   ],
   "source": [
    "patient_0 = data[0,:]\n",
    "print('maximum inflammation for patient 0:', np.max(patient_0) )"
   ]
  },
  {
   "cell_type": "code",
   "execution_count": 48,
   "id": "18bb4273",
   "metadata": {},
   "outputs": [
    {
     "name": "stdout",
     "output_type": "stream",
     "text": [
      "maximum inflammation over patients that was reported each day:\n",
      " [ 0.  1.  2.  3.  4.  5.  6.  7.  8.  9. 10. 11. 12. 13. 14. 15. 16. 17.\n",
      " 18. 19. 20. 19. 18. 17. 16. 15. 14. 13. 12. 11. 10.  9.  8.  7.  6.  5.\n",
      "  4.  3.  2.  1.]\n"
     ]
    }
   ],
   "source": [
    "print( 'maximum inflammation over patients that was reported each day:\\n', np.max(data,axis=0) )"
   ]
  },
  {
   "cell_type": "code",
   "execution_count": 47,
   "id": "7cb270bb",
   "metadata": {},
   "outputs": [
    {
     "name": "stdout",
     "output_type": "stream",
     "text": [
      "maximum inflammation over time that was reported for each patient:\n",
      " [18. 18. 19. 17. 17. 18. 17. 20. 17. 18. 18. 18. 17. 16. 17. 18. 19. 19.\n",
      " 17. 19. 19. 16. 17. 15. 17. 17. 18. 17. 20. 17. 16. 19. 15. 15. 19. 17.\n",
      " 16. 17. 19. 16. 18. 19. 16. 19. 18. 16. 19. 15. 16. 18. 14. 20. 17. 15.\n",
      " 17. 16. 17. 19. 18. 18.]\n"
     ]
    }
   ],
   "source": [
    "print('maximum inflammation over time that was reported for each patient:\\n', np.max(data,axis=1) )"
   ]
  },
  {
   "cell_type": "markdown",
   "id": "88f8d086",
   "metadata": {},
   "source": [
    "# EXERCISES"
   ]
  },
  {
   "cell_type": "markdown",
   "id": "76d11d4c",
   "metadata": {},
   "source": [
    "# manipulating arrays"
   ]
  },
  {
   "cell_type": "code",
   "execution_count": 49,
   "id": "a9c98f58",
   "metadata": {},
   "outputs": [
    {
     "name": "stdout",
     "output_type": "stream",
     "text": [
      "oxy\n",
      "gen\n",
      "xygen\n"
     ]
    }
   ],
   "source": [
    "# a string works similar to an array\n",
    "element = 'oxygen'\n",
    "\n",
    "# we can access parts of it similar to arrays\n",
    "print(element[0:3])\n",
    "print(element[3:6])\n",
    "print(element[1:])"
   ]
  },
  {
   "cell_type": "code",
   "execution_count": 51,
   "id": "66ae0946",
   "metadata": {},
   "outputs": [
    {
     "data": {
      "text/plain": [
       "array([], shape=(0, 0), dtype=float64)"
      ]
     },
     "execution_count": 51,
     "metadata": {},
     "output_type": "execute_result"
    }
   ],
   "source": [
    "# we can also get an empty numpy array\n",
    "data[3:3,4:4]"
   ]
  },
  {
   "cell_type": "code",
   "execution_count": 54,
   "id": "2f4c59d1",
   "metadata": {
    "scrolled": true
   },
   "outputs": [
    {
     "data": {
      "text/plain": [
       "array([], shape=(0, 40), dtype=float64)"
      ]
     },
     "execution_count": 54,
     "metadata": {},
     "output_type": "execute_result"
    }
   ],
   "source": [
    "listvar = data[3:3,:]\n",
    "listvar"
   ]
  },
  {
   "cell_type": "markdown",
   "id": "22a505b1",
   "metadata": {},
   "source": [
    "# further manipulation"
   ]
  },
  {
   "cell_type": "code",
   "execution_count": 58,
   "id": "a410381b",
   "metadata": {},
   "outputs": [
    {
     "name": "stdout",
     "output_type": "stream",
     "text": [
      "[[ 1  2  3]\n",
      " [ 4  5  6]\n",
      " [ 7  8  9]\n",
      " [10 11 12]]\n",
      "(4, 3)\n"
     ]
    }
   ],
   "source": [
    "A = np.array([[1,2,3],[4,5,6],[7,8,9],[10,11,12]])\n",
    "print(A)\n",
    "print(A.shape)"
   ]
  },
  {
   "cell_type": "code",
   "execution_count": 63,
   "id": "ec5fe232",
   "metadata": {},
   "outputs": [
    {
     "name": "stdout",
     "output_type": "stream",
     "text": [
      "[[ 1  2  3  1  2  3]\n",
      " [ 4  5  6  4  5  6]\n",
      " [ 7  8  9  7  8  9]\n",
      " [10 11 12 10 11 12]]\n",
      "---------------------\n",
      "[[ 1  2  3]\n",
      " [ 4  5  6]\n",
      " [ 7  8  9]\n",
      " [10 11 12]\n",
      " [ 1  2  3]\n",
      " [ 4  5  6]\n",
      " [ 7  8  9]\n",
      " [10 11 12]]\n"
     ]
    }
   ],
   "source": [
    "B = np.hstack([A,A])\n",
    "C = np.vstack([A,A])\n",
    "\n",
    "print(B)\n",
    "print('---------------------')\n",
    "print(C)"
   ]
  },
  {
   "cell_type": "code",
   "execution_count": 64,
   "id": "b6eb50c8",
   "metadata": {},
   "outputs": [
    {
     "name": "stdout",
     "output_type": "stream",
     "text": [
      "[ 1  4  7 10]\n",
      "[ 3  6  9 12]\n"
     ]
    }
   ],
   "source": [
    "# access different columns in the array\n",
    "col_first = A[:,0] # first column\n",
    "col_last = A[:,-1] # last column\n",
    "print(col_first)\n",
    "print(col_last)"
   ]
  },
  {
   "cell_type": "code",
   "execution_count": 65,
   "id": "29b4b5e9",
   "metadata": {},
   "outputs": [
    {
     "name": "stdout",
     "output_type": "stream",
     "text": [
      "[[ 1.  3.]\n",
      " [ 4.  6.]\n",
      " [ 7.  9.]\n",
      " [10. 12.]]\n"
     ]
    }
   ],
   "source": [
    "combined = np.zeros((4,2))\n",
    "combined[:,0] = col_first\n",
    "combined[:,1] = col_last\n",
    "print(combined)"
   ]
  },
  {
   "cell_type": "code",
   "execution_count": 102,
   "id": "3c5dbb8d",
   "metadata": {},
   "outputs": [
    {
     "data": {
      "text/plain": [
       "array([[ 1,  3],\n",
       "       [ 4,  6],\n",
       "       [ 7,  9],\n",
       "       [10, 12]])"
      ]
     },
     "execution_count": 102,
     "metadata": {},
     "output_type": "execute_result"
    }
   ],
   "source": [
    "numpy.hstack((A[:,:1],A[:,-1:]))"
   ]
  },
  {
   "cell_type": "code",
   "execution_count": 104,
   "id": "1231ddc3",
   "metadata": {},
   "outputs": [
    {
     "name": "stdout",
     "output_type": "stream",
     "text": [
      "[0. 0. 2. 0. 4. 2. 2.]\n"
     ]
    }
   ],
   "source": [
    "patient3_week1 = data[3,:7]\n",
    "print(patient3_week1)"
   ]
  },
  {
   "cell_type": "code",
   "execution_count": 105,
   "id": "605bf3cb",
   "metadata": {},
   "outputs": [
    {
     "data": {
      "text/plain": [
       "array([ 0.,  2., -2.,  4., -2.,  0.])"
      ]
     },
     "execution_count": 105,
     "metadata": {},
     "output_type": "execute_result"
    }
   ],
   "source": [
    "numpy.diff(patient3_week1)"
   ]
  },
  {
   "cell_type": "code",
   "execution_count": 108,
   "id": "937a6b36",
   "metadata": {},
   "outputs": [
    {
     "name": "stdout",
     "output_type": "stream",
     "text": [
      "[[0. 0. 1. ... 3. 0. 0.]\n",
      " [0. 1. 2. ... 1. 0. 1.]\n",
      " [0. 1. 1. ... 2. 1. 1.]\n",
      " ...\n",
      " [0. 1. 1. ... 1. 1. 1.]\n",
      " [0. 0. 0. ... 0. 2. 0.]\n",
      " [0. 0. 1. ... 1. 1. 0.]]\n",
      "[[ 0.  1.  2. ...  1. -3.  0.]\n",
      " [ 1.  1. -1. ...  0. -1.  1.]\n",
      " [ 1.  0.  2. ...  0. -1.  0.]\n",
      " ...\n",
      " [ 1.  0.  0. ... -1.  0.  0.]\n",
      " [ 0.  0.  1. ... -2.  2. -2.]\n",
      " [ 0.  1. -1. ... -2.  0. -1.]]\n"
     ]
    }
   ],
   "source": [
    "print( numpy.diff(data,axis=1) )"
   ]
  },
  {
   "cell_type": "code",
   "execution_count": 113,
   "id": "521f19d8",
   "metadata": {},
   "outputs": [
    {
     "name": "stdout",
     "output_type": "stream",
     "text": [
      "[ 7. 12. 11. 10. 11. 13. 10.  8. 10. 10.  7.  7. 13.  7. 10. 10.  8. 10.\n",
      "  9. 10. 13.  7. 12.  9. 12. 11. 10. 10.  7. 10. 11. 10.  8. 11. 12. 10.\n",
      "  9. 10. 13. 10.  7.  7. 10. 13. 12.  8.  8. 10. 10.  9.  8. 13. 10.  7.\n",
      " 10.  8. 12. 10.  7. 12.]\n"
     ]
    }
   ],
   "source": [
    "print( numpy.max( numpy.diff(data,axis=1), axis=1 ) )"
   ]
  },
  {
   "cell_type": "code",
   "execution_count": 112,
   "id": "e7b6965a",
   "metadata": {},
   "outputs": [
    {
     "name": "stdout",
     "output_type": "stream",
     "text": [
      "[12. 14. 11. 13. 11. 13. 10. 12. 10. 10. 10. 12. 13. 10. 11. 10. 12. 13.\n",
      "  9. 10. 13.  9. 12.  9. 12. 11. 10. 13.  9. 13. 11. 11.  8. 11. 12. 13.\n",
      "  9. 10. 13. 11. 11. 13. 11. 13. 13. 10.  9. 10. 10.  9.  9. 13. 10.  9.\n",
      " 10. 11. 13. 10. 10. 12.]\n"
     ]
    }
   ],
   "source": [
    "print( numpy.max( numpy.absolute( numpy.diff(data,axis=1) ), axis=1 ) )"
   ]
  },
  {
   "cell_type": "code",
   "execution_count": 16,
   "id": "f48101b6",
   "metadata": {},
   "outputs": [],
   "source": [
    "X = numpy.concatenate((A,A),axis=0)"
   ]
  },
  {
   "cell_type": "code",
   "execution_count": 17,
   "id": "4e3c806d",
   "metadata": {},
   "outputs": [
    {
     "data": {
      "text/plain": [
       "(4, 3)"
      ]
     },
     "execution_count": 17,
     "metadata": {},
     "output_type": "execute_result"
    }
   ],
   "source": [
    "A.shape"
   ]
  },
  {
   "cell_type": "code",
   "execution_count": 18,
   "id": "b18b73cc",
   "metadata": {},
   "outputs": [
    {
     "data": {
      "text/plain": [
       "(8, 3)"
      ]
     },
     "execution_count": 18,
     "metadata": {},
     "output_type": "execute_result"
    }
   ],
   "source": [
    "X.shape"
   ]
  },
  {
   "cell_type": "code",
   "execution_count": null,
   "id": "ce2bee74",
   "metadata": {},
   "outputs": [],
   "source": []
  }
 ],
 "metadata": {
  "kernelspec": {
   "display_name": "Python 3 (ipykernel)",
   "language": "python",
   "name": "python3"
  },
  "language_info": {
   "codemirror_mode": {
    "name": "ipython",
    "version": 3
   },
   "file_extension": ".py",
   "mimetype": "text/x-python",
   "name": "python",
   "nbconvert_exporter": "python",
   "pygments_lexer": "ipython3",
   "version": "3.7.6"
  }
 },
 "nbformat": 4,
 "nbformat_minor": 5
}
